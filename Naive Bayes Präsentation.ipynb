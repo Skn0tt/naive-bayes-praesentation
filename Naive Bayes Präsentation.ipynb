{
 "cells": [
  {
   "cell_type": "markdown",
   "metadata": {
    "slideshow": {
     "slide_type": "slide"
    }
   },
   "source": [
    "# Naive Bayes"
   ]
  },
  {
   "cell_type": "markdown",
   "metadata": {
    "slideshow": {
     "slide_type": "fragment"
    }
   },
   "source": [
    "Der \"Naive Bayes Classifier\" ist ein *Klassifizierungs*-Algorithmus, der auf dem *Satz von Bayes* aufbaut."
   ]
  },
  {
   "cell_type": "markdown",
   "metadata": {
    "slideshow": {
     "slide_type": "subslide"
    }
   },
   "source": [
    "## Fragen\n",
    "\n",
    "- Was ist Maschinenlernen?\n",
    "- Wie funktioniert Naive Bayes?\n",
    "- Wann kann ich Naive Bayes benutzen?"
   ]
  },
  {
   "cell_type": "markdown",
   "metadata": {
    "slideshow": {
     "slide_type": "slide"
    }
   },
   "source": [
    "# Was ist Maschinenlernen?"
   ]
  },
  {
   "cell_type": "markdown",
   "metadata": {
    "slideshow": {
     "slide_type": "fragment"
    }
   },
   "source": [
    "- Computer-gestützte Analyse großer Datenmengen\n",
    "- Wir z.B. verwendet für:\n",
    "    - Spracherkennung (NLP)\n",
    "    - Wettervorhersage\n",
    "    - Vorhersage der Wirksamkeit eines Medikaments\n",
    "    - Autonomes Fahren\n",
    "    - Betrugserkennung (Fraud Detection)"
   ]
  },
  {
   "cell_type": "markdown",
   "metadata": {
    "slideshow": {
     "slide_type": "subslide"
    }
   },
   "source": [
    "## Was braucht man für Maschinenlernen?\n",
    "\n",
    "- einen Algorithmus\n",
    "- Trainings-Daten"
   ]
  },
  {
   "cell_type": "markdown",
   "metadata": {
    "slideshow": {
     "slide_type": "slide"
    }
   },
   "source": [
    "# Terminologie\n",
    "\n",
    "*Satz von Bayes*: $ P_B(A)=\\frac {P_A(B) \\cdot P(A)}{P(B)} $\n",
    "\n",
    "*Klassifzierungs-Algorithmus*: Ein Algorithmus, der einen Datensatz $X$ mit den Merkmalen $x_1,...,x_n$ einer Klasse $C$ zuordnet"
   ]
  },
  {
   "cell_type": "markdown",
   "metadata": {
    "slideshow": {
     "slide_type": "subslide"
    }
   },
   "source": [
    "## Ein Ballspiel:\n",
    "\n",
    "| Stollen | Schläger | Ballgröße | *Sport*      |\n",
    "| ------- | -------- | --------- | ------------ |\n",
    "| Nein    | Ja       | Klein     | *Badminton*  |\n",
    "| Nein    | Nein     | Groß      | *Fußball*    |\n",
    "| Nein    | Ja       | Mittel    | *Tennis*     |\n",
    "| Nein    | Ja       | Klein     | *Golf*       |\n",
    "| Nein    | Nein     | Groß      | *Basketball* |\n",
    "| Ja      | Nein     | Groß      | *Fußball*    |\n",
    "| Ja      | Ja       | Klein     | *Golf*       |"
   ]
  },
  {
   "cell_type": "markdown",
   "metadata": {
    "slideshow": {
     "slide_type": "fragment"
    }
   },
   "source": [
    "Du triffst einen Sportler.\n",
    "Er hat *keine Stollenschuhe*, einen *Schläger* auf dem Rücken und balanciert einen *kleinen Ball* lässig auf der Nase.\n",
    "\n",
    "**Frage:** Welche Sportart übt der Sportler aus?"
   ]
  },
  {
   "cell_type": "markdown",
   "metadata": {
    "slideshow": {
     "slide_type": "fragment"
    }
   },
   "source": [
    "**Antwort:** Golf oder Badminton."
   ]
  },
  {
   "cell_type": "markdown",
   "metadata": {
    "slideshow": {
     "slide_type": "slide"
    }
   },
   "source": [
    "## Übung!\n",
    "\n",
    "Ich erhalte jedes Jahr 10.000 Emails.\n",
    "Davon sind 5.000 Spam.\n",
    "Manche der Emails enthalten die Wörter \"Viagra\", \"Nigerianischer Prinz\" oder \"Angebot\".\n",
    "\n",
    "| []() | Viagra | Nigerianischer Prinz | Angebot |\n",
    "| ---- | ------ | ----- | ------- |\n",
    "| Spam | 3000   | 2000  | 4000    |\n",
    "| Kein Spam | 1 | 10    | 100     |"
   ]
  },
  {
   "cell_type": "markdown",
   "metadata": {
    "slideshow": {
     "slide_type": "subslide"
    }
   },
   "source": [
    "Frage: Wie Hoch ist die Wahrscheinlichkeit, dass eine Email Spam ist, wenn sie die Wörter \"Viagra\", \"Nigerianischer Prinz\" und \"Angebot\" enthält?\n",
    "\n",
    "$$\n",
    "P_{V \\cap N \\cap A}(S)\n",
    "$$"
   ]
  },
  {
   "cell_type": "markdown",
   "metadata": {
    "slideshow": {
     "slide_type": "fragment"
    }
   },
   "source": [
    "$$\n",
    "= \\frac{P_S({V \\cap N \\cap A}) \\cdot P(S)}{P(V \\cap N \\cap A)}\n",
    "$$"
   ]
  },
  {
   "cell_type": "markdown",
   "metadata": {
    "slideshow": {
     "slide_type": "fragment"
    }
   },
   "source": [
    "$$\n",
    "= \\frac{P_S(V) \\cdot P_S(N) \\cdot P_S(A) \\cdot P(S)}{P(V) \\cdot P(N) \\cdot P(A)}\n",
    "$$"
   ]
  },
  {
   "cell_type": "markdown",
   "metadata": {
    "slideshow": {
     "slide_type": "fragment"
    }
   },
   "source": [
    "Achtung: $P(A \\cap B) = P(A) \\cdot P(B)$ gilt nur, wenn $A$ und $B$ stochastisch unabhängig sind."
   ]
  },
  {
   "cell_type": "markdown",
   "metadata": {
    "slideshow": {
     "slide_type": "subslide"
    }
   },
   "source": [
    "![Spam-Example](Spam-Example.png)"
   ]
  },
  {
   "cell_type": "markdown",
   "metadata": {
    "slideshow": {
     "slide_type": "fragment"
    }
   },
   "source": [
    "Berechne: $P_{V \\cap N \\cap A}(S)$"
   ]
  },
  {
   "cell_type": "markdown",
   "metadata": {
    "slideshow": {
     "slide_type": "fragment"
    }
   },
   "source": [
    "Berechne:\n",
    "\n",
    "1. $P_{V \\cap N \\cap \\bar{A}}(S)$\n",
    "2. $P_{V \\cap N \\cap \\bar{A}}(\\bar{S})$"
   ]
  },
  {
   "cell_type": "code",
   "execution_count": 254,
   "metadata": {
    "slideshow": {
     "slide_type": "skip"
    }
   },
   "outputs": [],
   "source": [
    "read_data <- function() {\n",
    "    dataset <- read.table(\"StudentsPerformance.csv\", header=TRUE, sep = \",\")\n",
    "    dataset$math.score <- factor(round(dataset$math.score, -1))\n",
    "    dataset$reading.score <- factor(round(dataset$reading.score, -1))\n",
    "    dataset$writing.score <- factor(round(dataset$writing.score, -1))\n",
    "    return(dataset)\n",
    "}"
   ]
  },
  {
   "cell_type": "code",
   "execution_count": 255,
   "metadata": {
    "slideshow": {
     "slide_type": "slide"
    }
   },
   "outputs": [
    {
     "data": {
      "text/html": [
       "<table>\n",
       "<thead><tr><th scope=col>gender</th><th scope=col>race.ethnicity</th><th scope=col>parental.level.of.education</th><th scope=col>lunch</th><th scope=col>test.preparation.course</th><th scope=col>math.score</th><th scope=col>reading.score</th><th scope=col>writing.score</th></tr></thead>\n",
       "<tbody>\n",
       "\t<tr><td>female            </td><td>group B           </td><td>bachelor's degree </td><td>standard          </td><td>none              </td><td>70                </td><td>70                </td><td>70                </td></tr>\n",
       "\t<tr><td>female            </td><td>group C           </td><td>some college      </td><td>standard          </td><td>completed         </td><td>70                </td><td>90                </td><td>90                </td></tr>\n",
       "\t<tr><td>female            </td><td>group B           </td><td>master's degree   </td><td>standard          </td><td>none              </td><td>90                </td><td>100               </td><td>90                </td></tr>\n",
       "\t<tr><td>male              </td><td>group A           </td><td>associate's degree</td><td>free/reduced      </td><td>none              </td><td>50                </td><td>60                </td><td>40                </td></tr>\n",
       "\t<tr><td>male              </td><td>group C           </td><td>some college      </td><td>standard          </td><td>none              </td><td>80                </td><td>80                </td><td>80                </td></tr>\n",
       "\t<tr><td>female            </td><td>group B           </td><td>associate's degree</td><td>standard          </td><td>none              </td><td>70                </td><td>80                </td><td>80                </td></tr>\n",
       "</tbody>\n",
       "</table>\n"
      ],
      "text/latex": [
       "\\begin{tabular}{r|llllllll}\n",
       " gender & race.ethnicity & parental.level.of.education & lunch & test.preparation.course & math.score & reading.score & writing.score\\\\\n",
       "\\hline\n",
       "\t female             & group B            & bachelor's degree  & standard           & none               & 70                 & 70                 & 70                \\\\\n",
       "\t female             & group C            & some college       & standard           & completed          & 70                 & 90                 & 90                \\\\\n",
       "\t female             & group B            & master's degree    & standard           & none               & 90                 & 100                & 90                \\\\\n",
       "\t male               & group A            & associate's degree & free/reduced       & none               & 50                 & 60                 & 40                \\\\\n",
       "\t male               & group C            & some college       & standard           & none               & 80                 & 80                 & 80                \\\\\n",
       "\t female             & group B            & associate's degree & standard           & none               & 70                 & 80                 & 80                \\\\\n",
       "\\end{tabular}\n"
      ],
      "text/markdown": [
       "\n",
       "gender | race.ethnicity | parental.level.of.education | lunch | test.preparation.course | math.score | reading.score | writing.score | \n",
       "|---|---|---|---|---|---|\n",
       "| female             | group B            | bachelor's degree  | standard           | none               | 70                 | 70                 | 70                 | \n",
       "| female             | group C            | some college       | standard           | completed          | 70                 | 90                 | 90                 | \n",
       "| female             | group B            | master's degree    | standard           | none               | 90                 | 100                | 90                 | \n",
       "| male               | group A            | associate's degree | free/reduced       | none               | 50                 | 60                 | 40                 | \n",
       "| male               | group C            | some college       | standard           | none               | 80                 | 80                 | 80                 | \n",
       "| female             | group B            | associate's degree | standard           | none               | 70                 | 80                 | 80                 | \n",
       "\n",
       "\n"
      ],
      "text/plain": [
       "  gender race.ethnicity parental.level.of.education lunch       \n",
       "1 female group B        bachelor's degree           standard    \n",
       "2 female group C        some college                standard    \n",
       "3 female group B        master's degree             standard    \n",
       "4 male   group A        associate's degree          free/reduced\n",
       "5 male   group C        some college                standard    \n",
       "6 female group B        associate's degree          standard    \n",
       "  test.preparation.course math.score reading.score writing.score\n",
       "1 none                    70         70            70           \n",
       "2 completed               70         90            90           \n",
       "3 none                    90         100           90           \n",
       "4 none                    50         60            40           \n",
       "5 none                    80         80            80           \n",
       "6 none                    70         80            80           "
      ]
     },
     "metadata": {},
     "output_type": "display_data"
    }
   ],
   "source": [
    "dataset <- read_data();\n",
    "# summary(dataset);\n",
    "head(dataset);"
   ]
  },
  {
   "cell_type": "code",
   "execution_count": 256,
   "metadata": {
    "slideshow": {
     "slide_type": "-"
    }
   },
   "outputs": [],
   "source": [
    "library(plyr);\n",
    "\n",
    "dataset <- read_data();\n",
    "\n",
    "possibleScores <- unique(dataset$math.score);\n",
    "\n",
    "probabilityOfFeature <- function(ds, feature, fact) {\n",
    "    total <- length(ds);\n",
    "    \n",
    "    counts <- count(ds, feature);\n",
    "    countOfFeature <- as.numeric(counts[counts[feature] == fact][2]);\n",
    "    \n",
    "    return (countOfFeature / total);\n",
    "}\n",
    "\n",
    "predict <- function(gender, ethnicity, education, lunch, prep) {\n",
    "    scoresWithPossibility <- ldply(possibleScores, function(score) {\n",
    "        datasetForScore <- dataset[dataset$math.score == score, ];\n",
    "        \n",
    "        p_score <- length(datasetForScore) / length(dataset);\n",
    "\n",
    "        p_gender <- probabilityOfFeature(datasetForScore, \"gender\", gender);\n",
    "        p_ethnicity <- probabilityOfFeature(datasetForScore, \"race.ethnicity\", ethnicity);\n",
    "        p_education <- probabilityOfFeature(datasetForScore, \"parental.level.of.education\", education);\n",
    "        p_lunch <- probabilityOfFeature(datasetForScore, \"lunch\", lunch);\n",
    "        p_prep <- probabilityOfFeature(datasetForScore, \"test.preparation.course\", prep);\n",
    "        \n",
    "        result <- p_score * p_gender * p_ethnicity * p_education * p_lunch * p_prep;\n",
    "        \n",
    "        return (c(as.numeric(levels(score))[score], result));\n",
    "    })\n",
    "    \n",
    "    return (scoresWithPossibility);\n",
    "}\n",
    "\n",
    "plot_prediction <- function(gender, ethnicity, education, lunch, prep) {\n",
    "    d <- predict(gender, ethnicity, education, lunch, prep);\n",
    "    plot(d);\n",
    "}"
   ]
  },
  {
   "cell_type": "code",
   "execution_count": 258,
   "metadata": {
    "slideshow": {
     "slide_type": "slide"
    }
   },
   "outputs": [
    {
     "data": {
      "image/png": "[encoded data removed]",
      "text/plain": [
       "plot without title"
      ]
     },
     "metadata": {},
     "output_type": "display_data"
    }
   ],
   "source": [
    "par(mfrow = c(2, 2))\n",
    "plot_prediction(\"female\", \"group B\", \"master's degree\", \"standard\", \"completed\");\n",
    "plot_prediction(\"male\", \"group A\", \"bachelor's degree\", \"standard\", \"none\");\n",
    "plot_prediction(\"female\", \"group D\", \"associate's degree\", \"free/reduced\", \"completed\");\n",
    "plot_prediction(\"male\", \"group E\", \"some college\", \"free/reduced\", \"none\");"
   ]
  },
  {
   "cell_type": "markdown",
   "metadata": {
    "slideshow": {
     "slide_type": "slide"
    }
   },
   "source": [
    "## Wofür kann man Naive Bayes benutzen?\n",
    "\n",
    "- Zur Klassifzierung von Datensätzen\n",
    "- Wenn die einzelnen Merkmale diskret sind (anstatt kontinuierlich)\n",
    "- Wenn die Merkmale stochastisch unabhängig sind\n"
   ]
  },
  {
   "cell_type": "markdown",
   "metadata": {
    "slideshow": {
     "slide_type": "slide"
    }
   },
   "source": [
    "## Welche Probleme hat Naive Bayes?\n",
    "\n",
    "- Nimmt eine einzelne Wahrscheinlichkeit null an, ist der ganze Term null\n",
    "    - Fix: Laplace Smoothing (zu allen Häufigkeiten 1 addieren)\n",
    "- Naive Bayes nimmt an, dass die Merkmale stochastisch unabhängig sind\n",
    "    - Ist in vielen Fällen zwar mathematisch unkorrekt, aber in der Praxis meist wenig relevant"
   ]
  },
  {
   "cell_type": "markdown",
   "metadata": {
    "slideshow": {
     "slide_type": "slide"
    }
   },
   "source": [
    "## Vielen Dank. Fragen?"
   ]
  }
 ],
 "metadata": {
  "celltoolbar": "Slideshow",
  "kernelspec": {
   "display_name": "R",
   "language": "R",
   "name": "ir"
  },
  "language_info": {
   "codemirror_mode": "r",
   "file_extension": ".r",
   "mimetype": "text/x-r-source",
   "name": "R",
   "pygments_lexer": "r",
   "version": "3.4.1"
  }
 },
 "nbformat": 4,
 "nbformat_minor": 2
}
