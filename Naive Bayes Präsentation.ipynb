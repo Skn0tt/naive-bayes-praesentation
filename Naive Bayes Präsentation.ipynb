{
 "cells": [
  {
   "cell_type": "markdown",
   "metadata": {
    "slideshow": {
     "slide_type": "slide"
    }
   },
   "source": [
    " # Naive Bayes"
   ]
  },
  {
   "cell_type": "markdown",
   "metadata": {
    "slideshow": {
     "slide_type": "fragment"
    }
   },
   "source": [
    "Der \"Naive Bayes Classifier\" ist ein *Klassifizierungs*-Algorithmus, der auf dem *Satz von Bayes* aufbaut."
   ]
  },
  {
   "cell_type": "markdown",
   "metadata": {
    "slideshow": {
     "slide_type": "subslide"
    }
   },
   "source": [
    "## Fragen\n",
    "\n",
    "- Was ist Maschinenlernen?\n",
    "- Wie funktioniert Naive Bayes?\n",
    "- Wann kann ich Naive Bayes benutzen?"
   ]
  },
  {
   "cell_type": "markdown",
   "metadata": {
    "slideshow": {
     "slide_type": "slide"
    }
   },
   "source": [
    "# Was ist Maschinenlernen?"
   ]
  },
  {
   "cell_type": "markdown",
   "metadata": {
    "slideshow": {
     "slide_type": "fragment"
    }
   },
   "source": [
    "- Computer-gestützte Analyse großer Datenmengen\n",
    "- Wir z.B. verwendet für:\n",
    "    - Spracherkennung (NLP)\n",
    "    - Wettervorhersage\n",
    "    - Vorhersage der Wirksamkeit eines Medikaments\n",
    "    - Autonomes Fahren\n",
    "    - Betrugserkennung (Fraud Detection)"
   ]
  },
  {
   "cell_type": "markdown",
   "metadata": {
    "slideshow": {
     "slide_type": "subslide"
    }
   },
   "source": [
    "## Was braucht man für Maschinenlernen?\n",
    "\n",
    "- einen Algorithmus\n",
    "- Trainings-Daten"
   ]
  },
  {
   "cell_type": "markdown",
   "metadata": {
    "slideshow": {
     "slide_type": "slide"
    }
   },
   "source": [
    "# Terminologie\n",
    "\n",
    "*Satz von Bayes*: $ P_B(A)=\\frac {P_A(B) \\cdot P(A)}{P(B)} $\n",
    "\n",
    "*Klassifzierungs-Algorithmus*: Ein Algorithmus, der einen Datensatz $X$ mit den Merkmalen $x_1,...,x_n$ einer Klasse $C$ zuordnet"
   ]
  },
  {
   "cell_type": "markdown",
   "metadata": {
    "slideshow": {
     "slide_type": "subslide"
    }
   },
   "source": [
    "## Ein Ballspiel:\n",
    "\n",
    "| Stollen | Schläger | Ballgröße | *Sport*      |\n",
    "| ------- | -------- | --------- | ------------ |\n",
    "| Nein    | Ja       | Klein     | *Badminton*  |\n",
    "| Nein    | Nein     | Groß      | *Fußball*    |\n",
    "| Nein    | Ja       | Mittel    | *Tennis*     |\n",
    "| Nein    | Ja       | Klein     | *Golf*       |\n",
    "| Nein    | Nein     | Groß      | *Basketball* |\n",
    "| Ja      | Nein     | Groß      | *Fußball*    |\n",
    "| Ja      | Ja       | Klein     | *Golf*       |"
   ]
  },
  {
   "cell_type": "markdown",
   "metadata": {
    "slideshow": {
     "slide_type": "fragment"
    }
   },
   "source": [
    "Du triffst einen Sportler.\n",
    "Er hat *keine Stollenschuhe*, einen *Schläger* auf dem Rücken und balanciert einen *kleinen Ball* lässig auf der Nase.\n",
    "\n",
    "**Frage:** Welche Sportart übt der Sportler aus?"
   ]
  },
  {
   "cell_type": "markdown",
   "metadata": {
    "slideshow": {
     "slide_type": "fragment"
    }
   },
   "source": [
    "**Antwort:** Golf oder Badminton."
   ]
  },
  {
   "cell_type": "markdown",
   "metadata": {
    "slideshow": {
     "slide_type": "slide"
    }
   },
   "source": [
    "| Sport        | Stollen | Schläger | Ballgröße    | *Gesamt*  |\n",
    "| ------------ | ------- | -------- | ------------ | --------- |\n",
    "| **Badminton**| 0       | 1        | 1xKlein      | *1*       |\n",
    "| **Fußball**  | 1       | 0        | 2xGroß       | *2*       |\n",
    "| **Golf**     | 1       | 2        | 2xMittel     | *2*       |\n",
    "| **Tennis**   | 0       | 1        | 1xMittel     | *1*       |\n",
    "| **Basketball**| 0       | 0        | Groß         | *1*       |\n",
    "| __*Gesamt*__     | *2*     | *4*      | *1xK 3xM 3xG*| *7*       |"
   ]
  },
  {
   "cell_type": "code",
   "execution_count": 110,
   "metadata": {
    "slideshow": {
     "slide_type": "skip"
    }
   },
   "outputs": [],
   "source": [
    "read_data <- function() {\n",
    "    dataset <- read.table(\"StudentsPerformance.csv\", header=TRUE, sep = \",\")\n",
    "    dataset$math.score <- factor(round(dataset$math.score, -1))\n",
    "    dataset$reading.score <- factor(round(dataset$reading.score, -1))\n",
    "    dataset$writing.score <- factor(round(dataset$writing.score, -1))\n",
    "    colnames(dataset)[colnames(data)==\"parental.level.of.education\"] <- \"class\"\n",
    "    return(dataset)\n",
    "}"
   ]
  },
  {
   "cell_type": "code",
   "execution_count": 111,
   "metadata": {
    "slideshow": {
     "slide_type": "slide"
    }
   },
   "outputs": [
    {
     "data": {
      "text/html": [
       "<table>\n",
       "<thead><tr><th scope=col>gender</th><th scope=col>race.ethnicity</th><th scope=col>parental.level.of.education</th><th scope=col>lunch</th><th scope=col>test.preparation.course</th><th scope=col>math.score</th><th scope=col>reading.score</th><th scope=col>writing.score</th></tr></thead>\n",
       "<tbody>\n",
       "\t<tr><td>female            </td><td>group B           </td><td>bachelor's degree </td><td>standard          </td><td>none              </td><td>70                </td><td>70                </td><td>70                </td></tr>\n",
       "\t<tr><td>female            </td><td>group C           </td><td>some college      </td><td>standard          </td><td>completed         </td><td>70                </td><td>90                </td><td>90                </td></tr>\n",
       "\t<tr><td>female            </td><td>group B           </td><td>master's degree   </td><td>standard          </td><td>none              </td><td>90                </td><td>100               </td><td>90                </td></tr>\n",
       "\t<tr><td>male              </td><td>group A           </td><td>associate's degree</td><td>free/reduced      </td><td>none              </td><td>50                </td><td>60                </td><td>40                </td></tr>\n",
       "\t<tr><td>male              </td><td>group C           </td><td>some college      </td><td>standard          </td><td>none              </td><td>80                </td><td>80                </td><td>80                </td></tr>\n",
       "\t<tr><td>female            </td><td>group B           </td><td>associate's degree</td><td>standard          </td><td>none              </td><td>70                </td><td>80                </td><td>80                </td></tr>\n",
       "</tbody>\n",
       "</table>\n"
      ],
      "text/latex": [
       "\\begin{tabular}{r|llllllll}\n",
       " gender & race.ethnicity & parental.level.of.education & lunch & test.preparation.course & math.score & reading.score & writing.score\\\\\n",
       "\\hline\n",
       "\t female             & group B            & bachelor's degree  & standard           & none               & 70                 & 70                 & 70                \\\\\n",
       "\t female             & group C            & some college       & standard           & completed          & 70                 & 90                 & 90                \\\\\n",
       "\t female             & group B            & master's degree    & standard           & none               & 90                 & 100                & 90                \\\\\n",
       "\t male               & group A            & associate's degree & free/reduced       & none               & 50                 & 60                 & 40                \\\\\n",
       "\t male               & group C            & some college       & standard           & none               & 80                 & 80                 & 80                \\\\\n",
       "\t female             & group B            & associate's degree & standard           & none               & 70                 & 80                 & 80                \\\\\n",
       "\\end{tabular}\n"
      ],
      "text/markdown": [
       "\n",
       "gender | race.ethnicity | parental.level.of.education | lunch | test.preparation.course | math.score | reading.score | writing.score | \n",
       "|---|---|---|---|---|---|\n",
       "| female             | group B            | bachelor's degree  | standard           | none               | 70                 | 70                 | 70                 | \n",
       "| female             | group C            | some college       | standard           | completed          | 70                 | 90                 | 90                 | \n",
       "| female             | group B            | master's degree    | standard           | none               | 90                 | 100                | 90                 | \n",
       "| male               | group A            | associate's degree | free/reduced       | none               | 50                 | 60                 | 40                 | \n",
       "| male               | group C            | some college       | standard           | none               | 80                 | 80                 | 80                 | \n",
       "| female             | group B            | associate's degree | standard           | none               | 70                 | 80                 | 80                 | \n",
       "\n",
       "\n"
      ],
      "text/plain": [
       "  gender race.ethnicity parental.level.of.education lunch       \n",
       "1 female group B        bachelor's degree           standard    \n",
       "2 female group C        some college                standard    \n",
       "3 female group B        master's degree             standard    \n",
       "4 male   group A        associate's degree          free/reduced\n",
       "5 male   group C        some college                standard    \n",
       "6 female group B        associate's degree          standard    \n",
       "  test.preparation.course math.score reading.score writing.score\n",
       "1 none                    70         70            70           \n",
       "2 completed               70         90            90           \n",
       "3 none                    90         100           90           \n",
       "4 none                    50         60            40           \n",
       "5 none                    80         80            80           \n",
       "6 none                    70         80            80           "
      ]
     },
     "metadata": {},
     "output_type": "display_data"
    }
   ],
   "source": [
    "dataset <- read_data();\n",
    "head(dataset)"
   ]
  },
  {
   "cell_type": "code",
   "execution_count": 76,
   "metadata": {},
   "outputs": [
    {
     "ename": "ERROR",
     "evalue": "Error in parse(text = x, srcfile = src): <text>:3:12: unexpected symbol\n2: \n3: - Probleme von\n              ^\n",
     "output_type": "error",
     "traceback": [
      "Error in parse(text = x, srcfile = src): <text>:3:12: unexpected symbol\n2: \n3: - Probleme von\n              ^\nTraceback:\n"
     ]
    }
   ],
   "source": [
    "Notizen:\n",
    "\n",
    "- Probleme von Naive Bayes:\n",
    "    - Gibt es keinen Datensatz mit einem speziellen Feature, wird die Wahrscheinlichkeit immer 0 sein (da mit 0 multipliziert wird) &rarr; Laplace +1\n",
    "    - Naive Bayes nimmt an, dass die Merkmale voneinader unabhängig sind (deshalb \"Naive\") (ist unrealistisch)\n",
    "- Aber:\n",
    "    - Funktioniert super\n",
    "    "
   ]
  }
 ],
 "metadata": {
  "celltoolbar": "Slideshow",
  "kernelspec": {
   "display_name": "R",
   "language": "R",
   "name": "ir"
  },
  "language_info": {
   "codemirror_mode": "r",
   "file_extension": ".r",
   "mimetype": "text/x-r-source",
   "name": "R",
   "pygments_lexer": "r",
   "version": "3.4.1"
  }
 },
 "nbformat": 4,
 "nbformat_minor": 2
}
